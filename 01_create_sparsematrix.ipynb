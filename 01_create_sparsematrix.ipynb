{
 "cells": [
  {
   "cell_type": "markdown",
   "metadata": {},
   "source": [
    "In this notebook, we'll load up the exported visit dataset and try to save a sparse matrix with all the categorical variables re-encoded as dummy variables that are suitable for modeling with the `glmnet` package."
   ]
  },
  {
   "cell_type": "code",
   "execution_count": null,
   "metadata": {
    "collapsed": false
   },
   "outputs": [],
   "source": [
    "library(glmnet)"
   ]
  },
  {
   "cell_type": "markdown",
   "metadata": {},
   "source": [
    "Here, we are loading a file that is not included in this repository--as per our IRB protocol, access to our full EMR dataset is restricted to Mount Sinai's network and authorized investigators for this study. However, we provide an example of the format of this data file in `data/exported_visit_data.EXAMPLE.tsv`. **You will need to modify this** to input your own data into this analysis.\n",
    "\n",
    "All of the figures in these notebooks show the results on our own full dataset."
   ]
  },
  {
   "cell_type": "code",
   "execution_count": null,
   "metadata": {
    "collapsed": false
   },
   "outputs": [],
   "source": [
    "df <- read.table('data/exported_visit_data.tsv', sep=\"\\t\", quote=\"\", header=TRUE, stringsAsFactors=FALSE)\n",
    "df$gender <- as.factor(df$gender)\n",
    "df$age_over89 <- as.factor(df$age_over89)\n",
    "df$cdtox_pcr_positive <- as.factor(df$cdtox_pcr_positive)\n",
    "df$cdtox_eia_positive <- as.factor(df$cdtox_eia_positive)\n",
    "df$started_cdtox_pcr <- as.factor(df$started_cdtox_pcr)\n",
    "df$cdi_dx <- as.factor(df$cdi_dx)"
   ]
  },
  {
   "cell_type": "markdown",
   "metadata": {},
   "source": [
    "First, the most naive examination possible; simply plot the distributions of LOS against `cdi_dx`, the presence of the CDI ICD-9 code."
   ]
  },
  {
   "cell_type": "code",
   "execution_count": 24,
   "metadata": {
    "collapsed": false
   },
   "outputs": [
    {
     "data": {
      "image/png": "[encoded data removed]"
     },
     "metadata": {},
     "output_type": "display_data"
    }
   ],
   "source": [
    "options(jupyter.plot_mimetypes = \"image/png\") \n",
    "options(repr.plot.width=4, repr.plot.height=4)\n",
    "plot(df$cdi_dx, df$length_of_stay)"
   ]
  },
  {
   "cell_type": "markdown",
   "metadata": {},
   "source": [
    "Log-scaling the Y-axis will make differences easier to see."
   ]
  },
  {
   "cell_type": "code",
   "execution_count": 25,
   "metadata": {
    "collapsed": false
   },
   "outputs": [
    {
     "data": {
      "image/png": "[encoded data removed]"
     },
     "metadata": {},
     "output_type": "display_data"
    }
   ],
   "source": [
    "plot(df$cdi_dx, log10(pmax(ceiling(df$length_of_stay), 1)))"
   ]
  },
  {
   "cell_type": "markdown",
   "metadata": {},
   "source": [
    "There is a weak correlation between `length_of_stay` and `cdi_dx` in the dataset. There is large variation (3 orders of magnitude) in the `length_of_stay` values.\n",
    "\n",
    "First order of business is to convert factors and the lists of diagnosis codes into matrices of dummy variables appropriate for a linear model, and glue this back on to the numerical data.\n",
    "\n",
    "We start by building a matrix from the only two numerical variables that we have, `length_of_stay` and `age`.\n",
    "\n",
    "We log10-scale `length_of_stay` after setting its minimum value to 1 day, because it is unbounded in the positive direction. Note that even though we include it in the matrix in case we want to use it for generalized linear models, we don't actually include it in the propensity models, since you are not supposed to include the outcome values while propensity matching (see [Stuart, *Statistical Science*, 2010](http://biostat.jhsph.edu/~estuart/Stuart10.StatSci.pdf)). We don't do any scaling or clipping when making comparisons on `length_of_stay` as a primary outcome in the matching-based analysis.\n",
    "\n",
    "We don't need to standardize these variables for `glmnet` if we use `standardize = TRUE` which is the default. See [this thread](https://thinklab.com/discussion/computing-standardized-logistic-regression-coefficients/205) for details on why. Briefly, `glmnet` automatically standardizes (scales and centers) all variables and then when reporting the coefficients it applies the Agresti transformation so they are in the same units as the original input variables."
   ]
  },
  {
   "cell_type": "code",
   "execution_count": 26,
   "metadata": {
    "collapsed": false
   },
   "outputs": [
    {
     "data": {
      "text/html": [
       "0.524810978122231"
      ],
      "text/latex": [
       "0.524810978122231"
      ],
      "text/markdown": [
       "0.524810978122231"
      ],
      "text/plain": [
       "[1] 0.524811"
      ]
     },
     "execution_count": 26,
     "metadata": {},
     "output_type": "execute_result"
    },
    {
     "data": {
      "text/html": [
       "0.376747037317024"
      ],
      "text/latex": [
       "0.376747037317024"
      ],
      "text/markdown": [
       "0.376747037317024"
      ],
      "text/plain": [
       "[1] 0.376747"
      ]
     },
     "execution_count": 26,
     "metadata": {},
     "output_type": "execute_result"
    },
    {
     "data": {
      "text/html": [
       "53.8130430736661"
      ],
      "text/latex": [
       "53.8130430736661"
      ],
      "text/markdown": [
       "53.8130430736661"
      ],
      "text/plain": [
       "[1] 53.81304"
      ]
     },
     "execution_count": 26,
     "metadata": {},
     "output_type": "execute_result"
    },
    {
     "data": {
      "text/html": [
       "19.4460219790345"
      ],
      "text/latex": [
       "19.4460219790345"
      ],
      "text/markdown": [
       "19.4460219790345"
      ],
      "text/plain": [
       "[1] 19.44602"
      ]
     },
     "execution_count": 26,
     "metadata": {},
     "output_type": "execute_result"
    }
   ],
   "source": [
    "mat <- cBind(Matrix(log10(pmax(df$length_of_stay, 1)), sparse=TRUE), Matrix(as.numeric(df$age), sparse=TRUE))\n",
    "colnames(mat) <- c(\"length_of_stay\", \"age\")\n",
    "mean(mat[,1])\n",
    "sd(mat[,1])\n",
    "mean(mat[,2])\n",
    "sd(mat[,2])"
   ]
  },
  {
   "cell_type": "markdown",
   "metadata": {},
   "source": [
    "Now for each covariate factor variable, convert it to a model matrix of dummy variables, and glue it to the right hand side of the matrix.\n",
    "\n",
    "Note that our dataset included more `gender` values than just \"Male\" and \"Female.\"\n",
    "\n",
    "The reason we have an `age_over89` factor variable is because `age` is right-clipped at 89 years to satisfy [HIPAA Safe Harbor](https://www.hhs.gov/hipaa/for-professionals/privacy/special-topics/de-identification/#safeharborguidance) guidelines. This dummy variable allows this property of the data to be properly interpreted by propensity models, although there can only be a uniform effect in the models for all ages above 89."
   ]
  },
  {
   "cell_type": "code",
   "execution_count": 27,
   "metadata": {
    "collapsed": false
   },
   "outputs": [
    {
     "name": "stdout",
     "output_type": "stream",
     "text": [
      "Formal class 'dgCMatrix' [package \"Matrix\"] with 6 slots\n",
      "  ..@ i       : int [1:679684] 1 2 3 4 5 6 7 8 9 10 ...\n",
      "  ..@ p       : int [1:9] 0 163870 335808 437772 437774 507745 507746 676440 679684\n",
      "  ..@ Dim     : int [1:2] 171938 8\n",
      "  ..@ Dimnames:List of 2\n",
      "  .. ..$ : NULL\n",
      "  .. ..$ : chr [1:8] \"length_of_stay\" \"age\" \"gender:Female\" \"gender:Indeterminant\" ...\n",
      "  ..@ x       : num [1:679684] 0.671 0.588 0.224 0.384 0.662 ...\n",
      "  ..@ factors : list()\n"
     ]
    },
    {
     "data": {
      "text/html": [
       "<ol class=list-inline>\n",
       "\t<li>'length_of_stay'</li>\n",
       "\t<li>'age'</li>\n",
       "\t<li>'gender:Female'</li>\n",
       "\t<li>'gender:Indeterminant'</li>\n",
       "\t<li>'gender:Male'</li>\n",
       "\t<li>'gender:NOT AVAILABLE'</li>\n",
       "\t<li>'age_over89:N'</li>\n",
       "\t<li>'age_over89:Y'</li>\n",
       "</ol>\n"
      ],
      "text/latex": [
       "\\begin{enumerate*}\n",
       "\\item 'length\\_of\\_stay'\n",
       "\\item 'age'\n",
       "\\item 'gender:Female'\n",
       "\\item 'gender:Indeterminant'\n",
       "\\item 'gender:Male'\n",
       "\\item 'gender:NOT AVAILABLE'\n",
       "\\item 'age\\_over89:N'\n",
       "\\item 'age\\_over89:Y'\n",
       "\\end{enumerate*}\n"
      ],
      "text/markdown": [
       "1. 'length_of_stay'\n",
       "2. 'age'\n",
       "3. 'gender:Female'\n",
       "4. 'gender:Indeterminant'\n",
       "5. 'gender:Male'\n",
       "6. 'gender:NOT AVAILABLE'\n",
       "7. 'age_over89:N'\n",
       "8. 'age_over89:Y'\n",
       "\n",
       "\n"
      ],
      "text/plain": [
       "[1] \"length_of_stay\"       \"age\"                  \"gender:Female\"       \n",
       "[4] \"gender:Indeterminant\" \"gender:Male\"          \"gender:NOT AVAILABLE\"\n",
       "[7] \"age_over89:N\"         \"age_over89:Y\"        "
      ]
     },
     "execution_count": 27,
     "metadata": {},
     "output_type": "execute_result"
    }
   ],
   "source": [
    "mat2 <- mat\n",
    "for (fac in c(\"gender\", \"age_over89\")) {\n",
    "    facAsSparse <- t(fac2sparse(df[[fac]]))\n",
    "    colnames(facAsSparse) <- unname(sapply(colnames(facAsSparse), function(x) { paste0(fac, \":\", x) }))\n",
    "    mat2 <- cBind(mat2, facAsSparse)\n",
    "}\n",
    "str(mat2)\n",
    "colnames(mat2)"
   ]
  },
  {
   "cell_type": "markdown",
   "metadata": {},
   "source": [
    "And now, for each variable containing a comma-delimited list of codes or tags, we must create matrices of dummy variables for them, and glue them to the right hand side of the matrix.\n",
    "\n",
    "All the possible codes are saved in tables that are loaded at this point. The actual tables for our dataset are provided as the `data/codelist_*` files. **You will need to modify these** for a different dataset."
   ]
  },
  {
   "cell_type": "code",
   "execution_count": 28,
   "metadata": {
    "collapsed": false
   },
   "outputs": [
    {
     "name": "stdout",
     "output_type": "stream",
     "text": [
      " chr [1:17] \"Emergency Room\" \"Non Health Care Facility\" ...\n",
      " chr [1:6362] \"188.9\" \"584.5\" \"174.9\" \"211.3\" \"255.10\" \"272.4\" ...\n",
      " chr [1:1488] \"8427-ABS NATURAL KILLER\" \"5410-DER. FERINAE IGE\" ...\n",
      " int [1:7529] 54501 7045 12206 16568 74201 73370 64352 6839 42319 97736 ...\n",
      " chr [1:1035] \"DEEP BRAIN STIM LEAD PLACEMENT- BILATERAL\" ...\n"
     ]
    }
   ],
   "source": [
    "adm_sources <- readLines('data/codelist_adm_sources.txt')\n",
    "dx.df <- read.table('data/codelist_seen_dxs.tsv', sep=\"\\t\", quote=\"\", header=TRUE, stringsAsFactors=FALSE)\n",
    "lab.df <- read.table('data/codelist_lab_result_codes.tsv', sep=\"\\t\", quote=\"\", header=TRUE, stringsAsFactors=FALSE)\n",
    "med.df <- read.table('data/codelist_med_codes.tsv', sep=\"\\t\", quote=\"\", header=TRUE, stringsAsFactors=FALSE)\n",
    "surg.df <- read.table('data/codelist_surgery_procs.tsv', sep=\"\\t\", quote=\"\", header=TRUE, stringsAsFactors=FALSE)\n",
    "dx_codes <- dx.df$code\n",
    "lab_codes <- lab.df$code\n",
    "med_codes <- med.df$code\n",
    "surg_codes <- surg.df$code\n",
    "str(adm_sources)\n",
    "str(dx_codes)\n",
    "str(lab_codes)\n",
    "str(med_codes)\n",
    "str(surg_codes)"
   ]
  },
  {
   "cell_type": "markdown",
   "metadata": {},
   "source": [
    "Create a mapping of `dx_codes`, `lab_codes`, and `med_codes` to column indices."
   ]
  },
  {
   "cell_type": "code",
   "execution_count": 29,
   "metadata": {
    "collapsed": false
   },
   "outputs": [
    {
     "name": "stdout",
     "output_type": "stream",
     "text": [
      "List of 6\n",
      " $ admission_sources: Named int [1:17] 1 2 3 4 5 6 7 8 9 10 ...\n",
      "  ..- attr(*, \"names\")= chr [1:17] \"Emergency Room\" \"Non Health Care Facility\" \"Physician Referral\" \"Clinic\" ...\n",
      " $ problem_list     : Named int [1:6362] 1 2 3 4 5 6 7 8 9 10 ...\n",
      "  ..- attr(*, \"names\")= chr [1:6362] \"188.9\" \"584.5\" \"174.9\" \"211.3\" ...\n",
      " $ surgery_cases    : Named int [1:1035] 1 2 3 4 5 6 7 8 9 10 ...\n",
      "  ..- attr(*, \"names\")= chr [1:1035] \"DEEP BRAIN STIM LEAD PLACEMENT- BILATERAL\" \"DEBRIDE WOUND/NS\" \"LIVER TRANSPLANT/ADULT\" \"LAPAROSCOP ABD+BX/GS\" ...\n",
      " $ meds_reported    : Named int [1:7529] 1 2 3 4 5 6 7 8 9 10 ...\n",
      "  ..- attr(*, \"names\")= chr [1:7529] \"54501\" \"7045\" \"12206\" \"16568\" ...\n",
      " $ meds_administered: Named int [1:7529] 1 2 3 4 5 6 7 8 9 10 ...\n",
      "  ..- attr(*, \"names\")= chr [1:7529] \"54501\" \"7045\" \"12206\" \"16568\" ...\n",
      " $ abnormal_labs    : Named int [1:1488] 1 2 3 4 5 6 7 8 9 10 ...\n",
      "  ..- attr(*, \"names\")= chr [1:1488] \"8427-ABS NATURAL KILLER\" \"5410-DER. FERINAE IGE\" \"4498-METAPNEUMOVIRUS DFA\" \"1332-APOLIPOPROTEIN B\" ...\n"
     ]
    }
   ],
   "source": [
    "adm_sourcesToCol <- 1:length(adm_sources)\n",
    "names(adm_sourcesToCol) <- adm_sources\n",
    "\n",
    "dx_codesToCol <- 1:length(dx_codes)\n",
    "names(dx_codesToCol) <- dx_codes\n",
    "\n",
    "lab_codesToCol <- 1:length(lab_codes)\n",
    "names(lab_codesToCol) <- lab_codes\n",
    "\n",
    "med_codesToCol <- 1:length(med_codes)\n",
    "names(med_codesToCol) <- med_codes\n",
    "\n",
    "surg_codesToCol <- 1:length(surg_codes)\n",
    "names(surg_codesToCol) <- surg_codes\n",
    "\n",
    "codesToCols <- list(admission_sources=adm_sourcesToCol,\n",
    "                    problem_list=dx_codesToCol, \n",
    "                    surgery_cases=surg_codesToCol,\n",
    "                    meds_reported=med_codesToCol,\n",
    "                    meds_administered=med_codesToCol,\n",
    "                    abnormal_labs=lab_codesToCol)\n",
    "\n",
    "str(codesToCols)"
   ]
  },
  {
   "cell_type": "markdown",
   "metadata": {},
   "source": [
    "Finally, expand the tag values in each row into a sparse matrix.\n",
    "\n",
    "**Warning:** this step is a little expensive, taking about 10 minutes."
   ]
  },
  {
   "cell_type": "code",
   "execution_count": 30,
   "metadata": {
    "collapsed": false
   },
   "outputs": [
    {
     "name": "stderr",
     "output_type": "stream",
     "text": [
      "Working on admission_sources\n",
      "Rows processed: 30000 of 171938   ...\n",
      "Rows processed: 60000 of 171938   ...\n",
      "Rows processed: 90000 of 171938   ...\n",
      "Rows processed: 120000 of 171938   ...\n",
      "Rows processed: 150000 of 171938   ...\n",
      "Working on problem_list\n",
      "Rows processed: 30000 of 171938   ...\n",
      "Rows processed: 60000 of 171938   ...\n",
      "Rows processed: 90000 of 171938   ...\n",
      "Rows processed: 120000 of 171938   ...\n",
      "Rows processed: 150000 of 171938   ...\n",
      "Working on surgery_cases\n",
      "Rows processed: 30000 of 171938   ...\n",
      "Rows processed: 60000 of 171938   ...\n",
      "Rows processed: 90000 of 171938   ...\n",
      "Rows processed: 120000 of 171938   ...\n",
      "Rows processed: 150000 of 171938   ...\n",
      "Working on meds_reported\n",
      "Rows processed: 30000 of 171938   ...\n",
      "Rows processed: 60000 of 171938   ...\n",
      "Rows processed: 90000 of 171938   ...\n",
      "Rows processed: 120000 of 171938   ...\n",
      "Rows processed: 150000 of 171938   ...\n",
      "Working on meds_administered\n",
      "Rows processed: 30000 of 171938   ...\n",
      "Rows processed: 60000 of 171938   ...\n",
      "Rows processed: 90000 of 171938   ...\n",
      "Rows processed: 120000 of 171938   ...\n",
      "Rows processed: 150000 of 171938   ...\n",
      "Working on abnormal_labs\n",
      "Rows processed: 30000 of 171938   ...\n",
      "Rows processed: 60000 of 171938   ...\n",
      "Rows processed: 90000 of 171938   ...\n",
      "Rows processed: 120000 of 171938   ...\n",
      "Rows processed: 150000 of 171938   ...\n"
     ]
    },
    {
     "name": "stdout",
     "output_type": "stream",
     "text": [
      "Formal class 'dgCMatrix' [package \"Matrix\"] with 6 slots\n",
      "  ..@ i       : int [1:3716061] 1 2 3 4 5 6 7 8 9 10 ...\n",
      "  ..@ p       : int [1:23969] 0 163870 335808 437772 437774 507745 507746 676440 679684 729590 ...\n",
      "  ..@ Dim     : int [1:2] 171938 23968\n",
      "  ..@ Dimnames:List of 2\n",
      "  .. ..$ : NULL\n",
      "  .. ..$ : chr [1:23968] \"length_of_stay\" \"age\" \"gender:Female\" \"gender:Indeterminant\" ...\n",
      "  ..@ x       : num [1:3716061] 0.671 0.588 0.224 0.384 0.662 ...\n",
      "  ..@ factors : list()\n"
     ]
    }
   ],
   "source": [
    "mat3 <- mat2\n",
    "for (tagsCol in names(codesToCols)) {\n",
    "    message(\"Working on \", tagsCol)\n",
    "    tagCodesToCols <- codesToCols[[tagsCol]]\n",
    "    indices <- lapply(seq_len(nrow(df)), function(i) {\n",
    "        tags <- df[[i, tagsCol]]\n",
    "        sparseCols <- integer(0)\n",
    "        if (!is.na(tags) & tags != '') {\n",
    "            sparseCols <- unname(tagCodesToCols[unlist(strsplit(tags, '|', fixed=TRUE))])\n",
    "        }\n",
    "        if (i %% 30000 == 0) { message(paste0(\"Rows processed: \", i, \" of \", nrow(df), \"   ...\")) }\n",
    "        if (sum(is.na(sparseCols))) {\n",
    "            print(i)\n",
    "            print(tags)\n",
    "            stop(sparseCols)\n",
    "        }\n",
    "        list(rows=rep(i, length(sparseCols)), cols=sparseCols)\n",
    "    })\n",
    "    rows <- unlist(lapply(indices, function(ind) { ind$rows }))\n",
    "    cols <- unlist(lapply(indices, function(ind) { ind$cols }))\n",
    "    tagsColAsSparse <- sparseMatrix(rows, cols, x=1, dims=c(nrow(df), length(tagCodesToCols)))\n",
    "    colnames(tagsColAsSparse) <- unname(sapply(names(tagCodesToCols), function(x) { paste0(tagsCol, \":\", x) }))\n",
    "    mat3 <- cBind(mat3, tagsColAsSparse)\n",
    "}\n",
    "str(mat3)"
   ]
  },
  {
   "cell_type": "markdown",
   "metadata": {},
   "source": [
    "We rename this matrix simply for consistency with a past version of this analysis that used `mat4`, even though it's now generated in 3 steps instead of 4."
   ]
  },
  {
   "cell_type": "code",
   "execution_count": 31,
   "metadata": {
    "collapsed": true
   },
   "outputs": [],
   "source": [
    "mat4 <- mat3"
   ]
  },
  {
   "cell_type": "markdown",
   "metadata": {},
   "source": [
    "Let's save this finished 176k x 24k matrix to disk for use by the next notebook."
   ]
  },
  {
   "cell_type": "code",
   "execution_count": 35,
   "metadata": {
    "collapsed": false
   },
   "outputs": [],
   "source": [
    "save(mat4, df, dx.df, file=\"data/analysis_3.RData\")"
   ]
  }
 ],
 "metadata": {
  "kernelspec": {
   "display_name": "R",
   "language": "R",
   "name": "ir"
  },
  "language_info": {
   "codemirror_mode": "r",
   "file_extension": ".r",
   "mimetype": "text/x-r-source",
   "name": "R",
   "pygments_lexer": "r",
   "version": "3.3.2"
  }
 },
 "nbformat": 4,
 "nbformat_minor": 0
}
